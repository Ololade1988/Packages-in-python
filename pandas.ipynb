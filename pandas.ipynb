{
 "cells": [
  {
   "cell_type": "markdown",
   "id": "e423a380",
   "metadata": {},
   "source": [
    "# Python Pandas Introduction\n",
    "####  Pandas is defined as an open-source libray that provides high performance data manipulation in python.\n",
    "#####  Data anaysis requires lots of processing, such as restructing,cleaning,or merging,etc.There are difeerent tools available for data for fast data processing such as Numpy,cython,and panda. But we prefer pandas because working with panda is fast, simple and more expressive than other tools.it can perform five significant steps required for processing and analysis of data irrespective of origin of the data, i.e load,manipulate, prepare, model and analyse.\n",
    "####  Pandas is bulit on top of the Numpy package, means Numpy is required for operating the Pandas\n"
   ]
  },
  {
   "cell_type": "markdown",
   "id": "1c36612c",
   "metadata": {},
   "source": [
    "# Python Pandas and Structuring\n",
    "#### The pandas provides two data structures for processing data, i.e Series and Dataframe, which are discussed below:"
   ]
  },
  {
   "cell_type": "markdown",
   "id": "f29848e4",
   "metadata": {},
   "source": [
    "# Python Pandas Series\n",
    "#### It is defined as one dimensional array that is capable of storing various data types. The rows label of the series are called the index. We can easily convert the list, tuple, and dictionary into series using \"series\" method.  A series cannot contain multiple column. i has one parameter:\n",
    "#### Index: The value of index should be unique and hashable. it must be of the same lenght as data. if we do not pass ny index, defaulf np.arange(n) will be used.\n",
    "#### Dtype: it refers to data type of series."
   ]
  },
  {
   "cell_type": "markdown",
   "id": "345585de",
   "metadata": {},
   "source": [
    "# Create an Empty Series:\n",
    "#### We can create an empty in pandas which means it will not have any value. The syntax that is used for creating empty series:\n",
    "x = pandas.Series()    \n",
    "    "
   ]
  },
  {
   "cell_type": "markdown",
   "id": "6b93cdb5",
   "metadata": {},
   "source": [
    "#### The below example create an empty series type object tha has no values and having default datatype,\n",
    "\n",
    "import pandas as pd\n",
    "x =pd.Series(dtype=\"object\")\n",
    "print(x)"
   ]
  },
  {
   "cell_type": "markdown",
   "id": "bd1def8f",
   "metadata": {},
   "source": [
    "# Creating a Series from python datatype/:\n",
    "We can create Series by various input\n",
    "Array\n",
    "Dict\n",
    "Secular value"
   ]
  },
  {
   "cell_type": "code",
   "execution_count": 3,
   "id": "1ee3d028",
   "metadata": {},
   "outputs": [
    {
     "name": "stdout",
     "output_type": "stream",
     "text": [
      "0    P\n",
      "1    a\n",
      "2    n\n",
      "3    d\n",
      "4    a\n",
      "5    s\n",
      "Name: ola, dtype: object\n"
     ]
    }
   ],
   "source": [
    "# Creating Series from Array\n",
    "import pandas as pd\n",
    "import numpy as np\n",
    "info = np.array( ['P','a','n','d','a','s'])\n",
    "a=pd.Series(info,name=\"ola\")\n",
    "print(a)"
   ]
  },
  {
   "cell_type": "code",
   "execution_count": 4,
   "id": "0eae67b4",
   "metadata": {},
   "outputs": [
    {
     "name": "stdout",
     "output_type": "stream",
     "text": [
      "3    p\n",
      "4    a\n",
      "5    n\n",
      "6    h\n",
      "dtype: object\n"
     ]
    }
   ],
   "source": [
    "# Craeting Series from a list with the followig index [\"One\", \"two\", \"three\", \"four\"]\n",
    "list1 =['p','a','n','h']\n",
    "series=pd.Series(list1, index= range(3,7))\n",
    "print(series)"
   ]
  },
  {
   "cell_type": "code",
   "execution_count": 5,
   "id": "28569a57",
   "metadata": {
    "scrolled": true
   },
   "outputs": [
    {
     "data": {
      "text/plain": [
       "x    0\n",
       "y    1\n",
       "z    2\n",
       "dtype: int64"
      ]
     },
     "execution_count": 5,
     "metadata": {},
     "output_type": "execute_result"
    }
   ],
   "source": [
    "# Create series from dict\n",
    "import pandas as pd\n",
    "import numpy as np\n",
    "\n",
    "info = {'x':0, 'y':1, 'z':2}\n",
    "pd.Series(info, dtype=\"int64\")"
   ]
  },
  {
   "cell_type": "code",
   "execution_count": 7,
   "id": "f2b501ab",
   "metadata": {
    "scrolled": true
   },
   "outputs": [
    {
     "data": {
      "text/plain": [
       "A     Osun\n",
       "B    Lagos\n",
       "C     Ondo\n",
       "dtype: object"
      ]
     },
     "execution_count": 7,
     "metadata": {},
     "output_type": "execute_result"
    }
   ],
   "source": [
    "list1 = [\"Osun\",\"Lagos\",\"Ondo\"]\n",
    "pd.Series(list1, index=list(\"ABC\"))"
   ]
  },
  {
   "cell_type": "code",
   "execution_count": 9,
   "id": "b5b7462f",
   "metadata": {},
   "outputs": [
    {
     "name": "stdout",
     "output_type": "stream",
     "text": [
      "0    4\n",
      "1    4\n",
      "2    4\n",
      "3    4\n",
      "dtype: int64\n"
     ]
    }
   ],
   "source": [
    "# create series using scaler:\n",
    "import pandas as pd\n",
    "import numpy as np\n",
    "x =pd.Series(4, index=[0,1,2,3])\n",
    "print(x)"
   ]
  },
  {
   "cell_type": "markdown",
   "id": "f6cb7fbe",
   "metadata": {},
   "source": [
    "# Accessing data from series with position:\n",
    "#### Once you create series type object, you can access its indexes, data and even individual elements. The data in the Series can be accessed similar to that in the ndarray"
   ]
  },
  {
   "cell_type": "code",
   "execution_count": 10,
   "id": "b5a9817f",
   "metadata": {},
   "outputs": [
    {
     "name": "stdout",
     "output_type": "stream",
     "text": [
      "a    1\n",
      "b    2\n",
      "c    3\n",
      "dtype: int64\n"
     ]
    }
   ],
   "source": [
    "import pandas as pd\n",
    "x = pd.Series([1,2,3], index =['a','b','c'])\n",
    "# retrieve the first element\n",
    "print(x)"
   ]
  },
  {
   "cell_type": "code",
   "execution_count": 11,
   "id": "bf0ae971",
   "metadata": {},
   "outputs": [
    {
     "data": {
      "text/plain": [
       "b    2\n",
       "c    3\n",
       "dtype: int64"
      ]
     },
     "execution_count": 11,
     "metadata": {},
     "output_type": "execute_result"
    }
   ],
   "source": [
    "# Print from the second row all the way to the last row\n",
    "x[1:]"
   ]
  },
  {
   "cell_type": "code",
   "execution_count": 12,
   "id": "01b6703f",
   "metadata": {},
   "outputs": [
    {
     "data": {
      "text/plain": [
       "Index(['a', 'b', 'c'], dtype='object')"
      ]
     },
     "execution_count": 12,
     "metadata": {},
     "output_type": "execute_result"
    }
   ],
   "source": [
    "# to get access to the index of series\n",
    "x.index"
   ]
  },
  {
   "cell_type": "code",
   "execution_count": 14,
   "id": "a5f6230f",
   "metadata": {},
   "outputs": [],
   "source": [
    "x.index =[\"john\",\"3\",\"i\"]"
   ]
  },
  {
   "cell_type": "code",
   "execution_count": 15,
   "id": "b44e9adf",
   "metadata": {},
   "outputs": [
    {
     "data": {
      "text/plain": [
       "john    1\n",
       "3       2\n",
       "i       3\n",
       "dtype: int64"
      ]
     },
     "execution_count": 15,
     "metadata": {},
     "output_type": "execute_result"
    }
   ],
   "source": [
    "x"
   ]
  },
  {
   "cell_type": "markdown",
   "id": "9f585b48",
   "metadata": {},
   "source": [
    "# 2. Python Pandas DataFrame\n",
    "#### is a widely used data structure of pandas and work with two dimensional array with labeled axes(rows and column). DataFrame is defines as a standard way to store data and has two different indexes, i.e, row index and column index. It consists of the following properties: The columns can be heterogenous type like int, bool and so on.\n",
    "#### It can be seen as dictionary of series structure where both rows and column are indexed. It is denoted as \"columns\" in case of columns and \"index\" in case of rows."
   ]
  },
  {
   "cell_type": "code",
   "execution_count": 8,
   "id": "c80ae6ad",
   "metadata": {},
   "outputs": [
    {
     "data": {
      "text/html": [
       "<div>\n",
       "<style scoped>\n",
       "    .dataframe tbody tr th:only-of-type {\n",
       "        vertical-align: middle;\n",
       "    }\n",
       "\n",
       "    .dataframe tbody tr th {\n",
       "        vertical-align: top;\n",
       "    }\n",
       "\n",
       "    .dataframe thead th {\n",
       "        text-align: right;\n",
       "    }\n",
       "</style>\n",
       "<table border=\"1\" class=\"dataframe\">\n",
       "  <thead>\n",
       "    <tr style=\"text-align: right;\">\n",
       "      <th></th>\n",
       "      <th>0</th>\n",
       "    </tr>\n",
       "  </thead>\n",
       "  <tbody>\n",
       "    <tr>\n",
       "      <th>0</th>\n",
       "      <td>Python</td>\n",
       "    </tr>\n",
       "    <tr>\n",
       "      <th>1</th>\n",
       "      <td>Pandas</td>\n",
       "    </tr>\n",
       "  </tbody>\n",
       "</table>\n",
       "</div>"
      ],
      "text/plain": [
       "        0\n",
       "0  Python\n",
       "1  Pandas"
      ]
     },
     "metadata": {},
     "output_type": "display_data"
    }
   ],
   "source": [
    "import pandas as pd\n",
    "# a list of strings\n",
    "x = ['Python', 'Pandas']\n",
    "# calling DataFrame constructor on list\n",
    "df =pd.DataFrame(x)\n",
    "display(df)"
   ]
  },
  {
   "cell_type": "code",
   "execution_count": null,
   "id": "73326e1c",
   "metadata": {},
   "outputs": [],
   "source": []
  },
  {
   "cell_type": "code",
   "execution_count": null,
   "id": "f03eb4db",
   "metadata": {},
   "outputs": [],
   "source": []
  },
  {
   "cell_type": "code",
   "execution_count": null,
   "id": "e2e2dd4b",
   "metadata": {},
   "outputs": [],
   "source": []
  }
 ],
 "metadata": {
  "kernelspec": {
   "display_name": "Python 3 (ipykernel)",
   "language": "python",
   "name": "python3"
  },
  "language_info": {
   "codemirror_mode": {
    "name": "ipython",
    "version": 3
   },
   "file_extension": ".py",
   "mimetype": "text/x-python",
   "name": "python",
   "nbconvert_exporter": "python",
   "pygments_lexer": "ipython3",
   "version": "3.9.13"
  }
 },
 "nbformat": 4,
 "nbformat_minor": 5
}
