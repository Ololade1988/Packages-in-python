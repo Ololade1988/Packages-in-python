{
 "cells": [
  {
   "cell_type": "markdown",
   "id": "3521086a",
   "metadata": {},
   "source": [
    "# NUMPY- NUMERICAL PHYTON"
   ]
  },
  {
   "cell_type": "code",
   "execution_count": null,
   "id": "6b8f3df8",
   "metadata": {},
   "outputs": [],
   "source": [
    "Packages in python- They are libray purposely built to provide solutions to a specific problems\n",
    "\n",
    "NUMPY- NUMERICAL PYTHON - it is purposely built on mathematics operation\n",
    "PANDAS - It is purposely built to perform data manipulation\n",
    "MATPLOT/ SEABURN/ PLOCKTLY - It is bulit to perform data visualization\n",
    "SCIKIT/SCILEARN - it is built to perform machine learning applications\n",
    "KERAS/ PYTOCH - It is built to perform deep learning applications\n"
   ]
  },
  {
   "cell_type": "code",
   "execution_count": 4,
   "id": "67432ca1",
   "metadata": {},
   "outputs": [],
   "source": [
    "import numpy"
   ]
  },
  {
   "cell_type": "code",
   "execution_count": 3,
   "id": "557d871f",
   "metadata": {},
   "outputs": [],
   "source": [
    "import numpy as np"
   ]
  },
  {
   "cell_type": "markdown",
   "id": "3d230d5a",
   "metadata": {},
   "source": [
    "# CREATING NUMPY ARRAY"
   ]
  },
  {
   "cell_type": "code",
   "execution_count": null,
   "id": "7e2d91c3",
   "metadata": {},
   "outputs": [],
   "source": [
    "State the difference between list and array"
   ]
  },
  {
   "cell_type": "code",
   "execution_count": null,
   "id": "076ac912",
   "metadata": {},
   "outputs": [],
   "source": [
    "np.array(object,ndmin,dtype)"
   ]
  },
  {
   "cell_type": "markdown",
   "id": "f495bdba",
   "metadata": {},
   "source": [
    "1. from an existing object\n",
    "Array can be creared as python object such as disc,list, tuple and set"
   ]
  },
  {
   "cell_type": "code",
   "execution_count": null,
   "id": "fa6a3404",
   "metadata": {},
   "outputs": [],
   "source": []
  },
  {
   "cell_type": "code",
   "execution_count": 2,
   "id": "67f4e87b",
   "metadata": {},
   "outputs": [
    {
     "data": {
      "text/plain": [
       "array([1, 4, 5, 6, 1, 7])"
      ]
     },
     "execution_count": 2,
     "metadata": {},
     "output_type": "execute_result"
    }
   ],
   "source": [
    "# creating one dimensional array from one dimensional list\n",
    "import numpy as np\n",
    "list1 = [1,4,5,6,1,7]\n",
    "arry1 = np.array(list1)\n",
    "arry1"
   ]
  },
  {
   "cell_type": "code",
   "execution_count": 6,
   "id": "a1007a4c",
   "metadata": {},
   "outputs": [
    {
     "data": {
      "text/plain": [
       "array([[ 5,  7,  0, 10, 12, 12, 45]])"
      ]
     },
     "execution_count": 6,
     "metadata": {},
     "output_type": "execute_result"
    }
   ],
   "source": [
    "# creating two dimensional array from two dimensional list\n",
    "list2 =[[5,7,0,10,12,12,45  ]]\n",
    "arry2 = np.array(list2)\n",
    "arry2"
   ]
  },
  {
   "cell_type": "code",
   "execution_count": 7,
   "id": "a96a0dda",
   "metadata": {},
   "outputs": [
    {
     "data": {
      "text/plain": [
       "2"
      ]
     },
     "execution_count": 7,
     "metadata": {},
     "output_type": "execute_result"
    }
   ],
   "source": [
    "# To check the dimension of array\n",
    "arry2.ndim"
   ]
  },
  {
   "cell_type": "code",
   "execution_count": 10,
   "id": "931a12e3",
   "metadata": {},
   "outputs": [
    {
     "data": {
      "text/plain": [
       "array([[[ 5,  7,  0, 10, 12, 12, 45]]])"
      ]
     },
     "execution_count": 10,
     "metadata": {},
     "output_type": "execute_result"
    }
   ],
   "source": [
    "# creating three dimensional from one dimensional list\n",
    "list2 =[[5,7,0,10,12,12,45  ]]\n",
    "arry3 = np.array(list2, ndmin=3)\n",
    "arry3"
   ]
  },
  {
   "cell_type": "code",
   "execution_count": 13,
   "id": "9066bc24",
   "metadata": {},
   "outputs": [
    {
     "data": {
      "text/plain": [
       "array([[[ 5.+0.j,  7.+0.j,  0.+0.j, 10.+0.j, 12.+0.j, 12.+0.j, 45.+0.j]]])"
      ]
     },
     "execution_count": 13,
     "metadata": {},
     "output_type": "execute_result"
    }
   ],
   "source": [
    "# creating three dimensional from one dimensional list\n",
    "list2 =[5,7,0,10,12,12,45  ]\n",
    "arry3 = np.array(list2, ndmin=3, dtype=\"complex\")\n",
    "arry3"
   ]
  },
  {
   "cell_type": "code",
   "execution_count": 6,
   "id": "fe0943ec",
   "metadata": {},
   "outputs": [
    {
     "data": {
      "text/plain": [
       "array([[[ 5.,  7.,  0., 10., 12., 12., 45.]]])"
      ]
     },
     "execution_count": 6,
     "metadata": {},
     "output_type": "execute_result"
    }
   ],
   "source": [
    "# creating three dimensional from one dimensional list\n",
    "list2 =[5,7,0,10,12,12,45  ]\n",
    "arry3 = np.array(list2, ndmin=3, dtype=\"float\")\n",
    "arry3"
   ]
  },
  {
   "cell_type": "code",
   "execution_count": 7,
   "id": "c0a13982",
   "metadata": {},
   "outputs": [
    {
     "data": {
      "text/plain": [
       "array([[[ 5,  7,  0, 10, 12, 12, 45]]])"
      ]
     },
     "execution_count": 7,
     "metadata": {},
     "output_type": "execute_result"
    }
   ],
   "source": [
    "# creating three dimensional from one dimensional list\n",
    "list2 =[5,7,0,10,12,12,45  ]\n",
    "arry3 = np.array(list2, ndmin=3, dtype=\"int\")\n",
    "arry3"
   ]
  },
  {
   "cell_type": "code",
   "execution_count": 8,
   "id": "d1587c0a",
   "metadata": {},
   "outputs": [
    {
     "data": {
      "text/plain": [
       "array([[[5, 7, 0, 10, 12, 12, 45]]], dtype=object)"
      ]
     },
     "execution_count": 8,
     "metadata": {},
     "output_type": "execute_result"
    }
   ],
   "source": [
    "# creating three dimensional from one dimensional list\n",
    "list2 =[5,7,0,10,12,12,45  ]\n",
    "arry3 = np.array(list2, ndmin=3, dtype=\"object\")\n",
    "arry3"
   ]
  },
  {
   "cell_type": "markdown",
   "id": "7468f6df",
   "metadata": {},
   "source": [
    "Exercise\n",
    "Create numpy three dimensionas and integer data type from the list below [2,4,5,22,8,54,22]\n",
    "\n",
    "list2 =[2,4,5,22,8,54,22  ]\n",
    "arry3= np.array(list2, ndmin=3, dtype=\"int\")\n",
    "arry3"
   ]
  },
  {
   "cell_type": "code",
   "execution_count": 34,
   "id": "e42ab554",
   "metadata": {},
   "outputs": [
    {
     "data": {
      "text/plain": [
       "array([[[ 2,  4,  5, 22,  8, 54, 22]]])"
      ]
     },
     "execution_count": 34,
     "metadata": {},
     "output_type": "execute_result"
    }
   ],
   "source": [
    "list2 =[2,4,5,22,8,54,22  ]\n",
    "arry3= np.array(list2, ndmin=3, dtype=\"int\")\n",
    "arry3"
   ]
  },
  {
   "cell_type": "code",
   "execution_count": 15,
   "id": "12f324d9",
   "metadata": {},
   "outputs": [
    {
     "data": {
      "text/plain": [
       "array([ 0,  1,  2,  3,  4,  5,  6,  7,  8,  9, 10])"
      ]
     },
     "execution_count": 15,
     "metadata": {},
     "output_type": "execute_result"
    }
   ],
   "source": [
    "# 4 Numpy - Array from numerical ranges\n",
    "# `numpy.arrange(start, stop, dtype)`\n",
    "np.arange(0, 11)"
   ]
  },
  {
   "cell_type": "code",
   "execution_count": 17,
   "id": "e67c5ee5",
   "metadata": {},
   "outputs": [
    {
     "data": {
      "text/plain": [
       "array([ 0,  2,  4,  6,  8, 10])"
      ]
     },
     "execution_count": 17,
     "metadata": {},
     "output_type": "execute_result"
    }
   ],
   "source": [
    "np.arange(0,11,2)"
   ]
  },
  {
   "cell_type": "code",
   "execution_count": 22,
   "id": "99944384",
   "metadata": {},
   "outputs": [
    {
     "data": {
      "text/plain": [
       "array([10., 20., 30., 40., 50.])"
      ]
     },
     "execution_count": 22,
     "metadata": {},
     "output_type": "execute_result"
    }
   ],
   "source": [
    "# creating array using linspace\n",
    "#`numpy.linspace(start,stop, num,endpoint, dtype)`\n",
    "np.linspace(10, 50, 5, endpoint=True)"
   ]
  },
  {
   "cell_type": "code",
   "execution_count": 23,
   "id": "20898935",
   "metadata": {},
   "outputs": [
    {
     "data": {
      "text/plain": [
       "array([10.        , 10.81632653, 11.63265306, 12.44897959, 13.26530612,\n",
       "       14.08163265, 14.89795918, 15.71428571, 16.53061224, 17.34693878,\n",
       "       18.16326531, 18.97959184, 19.79591837, 20.6122449 , 21.42857143,\n",
       "       22.24489796, 23.06122449, 23.87755102, 24.69387755, 25.51020408,\n",
       "       26.32653061, 27.14285714, 27.95918367, 28.7755102 , 29.59183673,\n",
       "       30.40816327, 31.2244898 , 32.04081633, 32.85714286, 33.67346939,\n",
       "       34.48979592, 35.30612245, 36.12244898, 36.93877551, 37.75510204,\n",
       "       38.57142857, 39.3877551 , 40.20408163, 41.02040816, 41.83673469,\n",
       "       42.65306122, 43.46938776, 44.28571429, 45.10204082, 45.91836735,\n",
       "       46.73469388, 47.55102041, 48.36734694, 49.18367347, 50.        ])"
      ]
     },
     "execution_count": 23,
     "metadata": {},
     "output_type": "execute_result"
    }
   ],
   "source": [
    "# creating array using linspace\n",
    "#`numpy.linspace(start,stop, num,endpoint, dtype)`\n",
    "np.linspace(10, 50, 50, endpoint=True)"
   ]
  },
  {
   "cell_type": "code",
   "execution_count": 24,
   "id": "1112ddcf",
   "metadata": {
    "scrolled": true
   },
   "outputs": [
    {
     "data": {
      "text/plain": [
       "array([10. , 10.8, 11.6, 12.4, 13.2, 14. , 14.8, 15.6, 16.4, 17.2, 18. ,\n",
       "       18.8, 19.6, 20.4, 21.2, 22. , 22.8, 23.6, 24.4, 25.2, 26. , 26.8,\n",
       "       27.6, 28.4, 29.2, 30. , 30.8, 31.6, 32.4, 33.2, 34. , 34.8, 35.6,\n",
       "       36.4, 37.2, 38. , 38.8, 39.6, 40.4, 41.2, 42. , 42.8, 43.6, 44.4,\n",
       "       45.2, 46. , 46.8, 47.6, 48.4, 49.2])"
      ]
     },
     "execution_count": 24,
     "metadata": {},
     "output_type": "execute_result"
    }
   ],
   "source": [
    "# creating array using linspace\n",
    "#`numpy.linspace(start,stop, num,endpoint, dtype)`\n",
    "np.linspace(10, 50, 50, endpoint=False)"
   ]
  },
  {
   "cell_type": "code",
   "execution_count": 25,
   "id": "7eb9bb5d",
   "metadata": {},
   "outputs": [
    {
     "data": {
      "text/plain": [
       "array([10., 20., 30., 40.])"
      ]
     },
     "execution_count": 25,
     "metadata": {},
     "output_type": "execute_result"
    }
   ],
   "source": [
    "# creating array using linspace\n",
    "#`numpy.linspace(start,stop, num,endpoint, dtype)`\n",
    "np.linspace(10, 50, 4, endpoint=False)"
   ]
  },
  {
   "cell_type": "markdown",
   "id": "b509b67a",
   "metadata": {},
   "source": [
    "create numpy array of object data type containing just 8 element within 10 and 90. endpoint should be excluded\n",
    "\n",
    "create numpy of int data type fro  7 to 70 with interval of 8"
   ]
  },
  {
   "cell_type": "code",
   "execution_count": 26,
   "id": "f646ddaf",
   "metadata": {},
   "outputs": [
    {
     "data": {
      "text/plain": [
       "array([10.0, 20.0, 30.0, 40.0, 50.0, 60.0, 70.0, 80.0], dtype=object)"
      ]
     },
     "execution_count": 26,
     "metadata": {},
     "output_type": "execute_result"
    }
   ],
   "source": [
    "np.linspace(10,90,8, endpoint=False, dtype=object)"
   ]
  },
  {
   "cell_type": "code",
   "execution_count": 27,
   "id": "ca700841",
   "metadata": {},
   "outputs": [
    {
     "data": {
      "text/plain": [
       "array([ 7, 15, 23, 31, 39, 47, 55, 63])"
      ]
     },
     "execution_count": 27,
     "metadata": {},
     "output_type": "execute_result"
    }
   ],
   "source": [
    "np.arange(7, 71, 8, dtype=int)"
   ]
  },
  {
   "cell_type": "code",
   "execution_count": null,
   "id": "3f780501",
   "metadata": {},
   "outputs": [],
   "source": [
    "Attribute of Array:\n",
    "shape- number of element in each of the dimension"
   ]
  },
  {
   "cell_type": "code",
   "execution_count": 31,
   "id": "b22b73ab",
   "metadata": {},
   "outputs": [
    {
     "data": {
      "text/plain": [
       "(2, 3, 2)"
      ]
     },
     "execution_count": 31,
     "metadata": {},
     "output_type": "execute_result"
    }
   ],
   "source": [
    "# how to check shape in arr\n",
    "arry5 =np.array( [ [[2, 5],\n",
    "           [8,3],\n",
    "           [6,4]],\n",
    "        \n",
    "           [[1,6],\n",
    "            [4,0],\n",
    "            [4,5]]] )\n",
    "\n",
    "arry5.shape\n",
    "        "
   ]
  },
  {
   "cell_type": "code",
   "execution_count": 32,
   "id": "58ce092b",
   "metadata": {},
   "outputs": [
    {
     "data": {
      "text/plain": [
       "(8,)"
      ]
     },
     "execution_count": 32,
     "metadata": {},
     "output_type": "execute_result"
    }
   ],
   "source": [
    "arry6=np.arange(7, 71, 8, dtype=int)\n",
    "arry6.shape"
   ]
  },
  {
   "cell_type": "code",
   "execution_count": 35,
   "id": "e4858fa8",
   "metadata": {},
   "outputs": [
    {
     "data": {
      "text/plain": [
       "(5, 4)"
      ]
     },
     "execution_count": 35,
     "metadata": {},
     "output_type": "execute_result"
    }
   ],
   "source": [
    "arry7=np.array([[2,6,7,8],\n",
    "                [2,6,7,8],\n",
    "                [2,6,7,8],\n",
    "                [2,6,7,8],\n",
    "                [2,6,7,8]])\n",
    "                  \n",
    "arry7.shape"
   ]
  },
  {
   "cell_type": "code",
   "execution_count": 36,
   "id": "1d4cf2b0",
   "metadata": {},
   "outputs": [
    {
     "name": "stdout",
     "output_type": "stream",
     "text": [
      "[ 7 11 15 19 23 27 31 35 39 43 47 51 55 59 63 67]\n"
     ]
    },
    {
     "data": {
      "text/plain": [
       "(16,)"
      ]
     },
     "execution_count": 36,
     "metadata": {},
     "output_type": "execute_result"
    }
   ],
   "source": [
    "# reshaping the shape of array **`2 Reshape()`**\n",
    "arry8=np.arange(7, 71,4, dtype=int)\n",
    "print(arry8)\n",
    "arry8.shape"
   ]
  },
  {
   "cell_type": "code",
   "execution_count": 38,
   "id": "17599727",
   "metadata": {},
   "outputs": [
    {
     "data": {
      "text/plain": [
       "(4, 4, 1)"
      ]
     },
     "execution_count": 38,
     "metadata": {},
     "output_type": "execute_result"
    }
   ],
   "source": [
    "arry_reshape=arry8.reshape(4,4,1)\n",
    "arry_reshape.shape"
   ]
  },
  {
   "cell_type": "code",
   "execution_count": 39,
   "id": "184e531c",
   "metadata": {},
   "outputs": [
    {
     "data": {
      "text/plain": [
       "(16, 1)"
      ]
     },
     "execution_count": 39,
     "metadata": {},
     "output_type": "execute_result"
    }
   ],
   "source": [
    "arry_reshape=arry8.reshape(16,1)\n",
    "arry_reshape.shape"
   ]
  },
  {
   "cell_type": "code",
   "execution_count": 44,
   "id": "f3734581",
   "metadata": {},
   "outputs": [
    {
     "name": "stdout",
     "output_type": "stream",
     "text": [
      "[ 1.  2.  3.  4.  5.  6.  7.  8.  9. 10.]\n"
     ]
    },
    {
     "data": {
      "text/plain": [
       "(10,)"
      ]
     },
     "execution_count": 44,
     "metadata": {},
     "output_type": "execute_result"
    }
   ],
   "source": [
    "# set base of log space to 2\n",
    "import numpy as np\n",
    "\n",
    "a=np.linspace(1,10, num=10)\n",
    "print(a)\n",
    "a.shape"
   ]
  },
  {
   "cell_type": "code",
   "execution_count": 45,
   "id": "e2bb9019",
   "metadata": {
    "scrolled": true
   },
   "outputs": [
    {
     "name": "stdout",
     "output_type": "stream",
     "text": [
      "[[ 1.  2.  3.  4.  5.]\n",
      " [ 6.  7.  8.  9. 10.]]\n",
      "the shape of array a after reshaping (2, 5)\n"
     ]
    }
   ],
   "source": [
    "# reshape array in two dimension array\n",
    "a=a.reshape(2, 5)\n",
    "print(a)\n",
    "print( \"the shape of array a after reshaping\", a.shape)"
   ]
  },
  {
   "cell_type": "code",
   "execution_count": null,
   "id": "a6c8c719",
   "metadata": {},
   "outputs": [],
   "source": [
    "the result above is the two dimensional array having one element in one dimension and five element in the second dimension"
   ]
  },
  {
   "cell_type": "code",
   "execution_count": null,
   "id": "ce672e41",
   "metadata": {},
   "outputs": [],
   "source": [
    "the above indicates there are two elements in the first dimension array"
   ]
  },
  {
   "cell_type": "markdown",
   "id": "817402d2",
   "metadata": {},
   "source": [
    "# Numpy Indexing and Slicing\n",
    "contents of ndarray objects can be accessed and modified by indexing and slicing"
   ]
  },
  {
   "cell_type": "code",
   "execution_count": null,
   "id": "7c280877",
   "metadata": {},
   "outputs": [],
   "source": [
    "** Indexing**"
   ]
  },
  {
   "cell_type": "code",
   "execution_count": 47,
   "id": "98625f8a",
   "metadata": {},
   "outputs": [
    {
     "name": "stdout",
     "output_type": "stream",
     "text": [
      "[10 14 18 22 26 30 34 38]\n"
     ]
    }
   ],
   "source": [
    "# slice index item\n",
    "import numpy as np\n",
    "a = np.arange(10,40,4)\n",
    "print(a)"
   ]
  },
  {
   "cell_type": "code",
   "execution_count": 48,
   "id": "da8eeee8",
   "metadata": {},
   "outputs": [
    {
     "name": "stdout",
     "output_type": "stream",
     "text": [
      "print tje element at index 5 is 30\n"
     ]
    }
   ],
   "source": [
    "# return element at index five\n",
    "b =a[5]\n",
    "print (\"print tje element at index 5 is\", b)"
   ]
  },
  {
   "cell_type": "code",
   "execution_count": 49,
   "id": "f1dd3907",
   "metadata": {},
   "outputs": [
    {
     "name": "stdout",
     "output_type": "stream",
     "text": [
      "[3 4 5]\n"
     ]
    }
   ],
   "source": [
    "import numpy as np\n",
    "\n",
    "# return the second element of array below\n",
    "a = np.array([ [1,2,3] ,[3,4,5], [7,5,6] ])\n",
    "print(a[1])"
   ]
  },
  {
   "cell_type": "markdown",
   "id": "efafbe9d",
   "metadata": {},
   "source": [
    "# Slicing"
   ]
  },
  {
   "cell_type": "code",
   "execution_count": 51,
   "id": "75e0c613",
   "metadata": {},
   "outputs": [
    {
     "name": "stdout",
     "output_type": "stream",
     "text": [
      "[ 3  4  5  6  7  8  9 10 11 12 13 14 15 16]\n"
     ]
    },
    {
     "data": {
      "text/plain": [
       "array([ 7,  8,  9, 10, 11, 12])"
      ]
     },
     "execution_count": 51,
     "metadata": {},
     "output_type": "execute_result"
    }
   ],
   "source": [
    "import numpy as np\n",
    "# return element 7 8 9 10 11 12 from below array\n",
    "a =np.arange(3,17)\n",
    "print(a)\n",
    "a[4:10]"
   ]
  },
  {
   "cell_type": "code",
   "execution_count": 52,
   "id": "0cd2fce5",
   "metadata": {},
   "outputs": [
    {
     "name": "stdout",
     "output_type": "stream",
     "text": [
      "[0 1 2 3 4 5 6 7 8 9] \n",
      "\n",
      "[2 3 4 5 6 7 8 9]\n"
     ]
    }
   ],
   "source": [
    "# slice items starting from index\n",
    "import numpy as np\n",
    "a = np. arange(10)\n",
    "print (a, '\\n') # '\\n' indicate next line\n",
    "# started from index two to end of the array\n",
    "print(a[2:])"
   ]
  },
  {
   "cell_type": "markdown",
   "id": "02f58cc1",
   "metadata": {},
   "source": [
    "#### we slice through the array a by starting at index2 and stop at index 5"
   ]
  },
  {
   "cell_type": "markdown",
   "id": "994c9ac6",
   "metadata": {},
   "source": [
    "# Boolean Array Indexing\n",
    "#### This type of advanced indexing is used when the resultant object is meant to be result of Boolean operations, such as comparison operators."
   ]
  },
  {
   "cell_type": "code",
   "execution_count": 53,
   "id": "73e47b4e",
   "metadata": {},
   "outputs": [
    {
     "name": "stdout",
     "output_type": "stream",
     "text": [
      "Our array is: \n",
      " [[ 0  1  2]\n",
      " [ 3  4  5]\n",
      " [ 6  7  8]\n",
      " [ 9 10 11]] \n",
      "\n"
     ]
    }
   ],
   "source": [
    "import numpy as np\n",
    "x= np. array([[ 0,1,2], [3,4,5],[6,7,8], [9,10,11] ])\n",
    "print('Our array is:', '\\n', x, '\\n')"
   ]
  },
  {
   "cell_type": "code",
   "execution_count": 54,
   "id": "ac4e8b1e",
   "metadata": {},
   "outputs": [
    {
     "data": {
      "text/plain": [
       "array([ 5,  6,  7,  8,  9, 10, 11])"
      ]
     },
     "execution_count": 54,
     "metadata": {},
     "output_type": "execute_result"
    }
   ],
   "source": [
    "# filter out element greater than 5\n",
    "x[x >=5] # this will return element equal or greater than five"
   ]
  },
  {
   "cell_type": "code",
   "execution_count": 57,
   "id": "8d979365",
   "metadata": {},
   "outputs": [
    {
     "data": {
      "text/plain": [
       "array([3, 3])"
      ]
     },
     "execution_count": 57,
     "metadata": {},
     "output_type": "execute_result"
    }
   ],
   "source": [
    "# filter out the elements  array that are not equals to three\n",
    "a=np.array([[1,2,3],[3,4,5],[4,5,6] ])\n",
    "a[a==3]"
   ]
  },
  {
   "cell_type": "markdown",
   "id": "531a5bf5",
   "metadata": {},
   "source": [
    "# Changing the dimension of the array"
   ]
  },
  {
   "cell_type": "code",
   "execution_count": 59,
   "id": "b682e0c9",
   "metadata": {},
   "outputs": [
    {
     "ename": "SyntaxError",
     "evalue": "invalid syntax (3377996320.py, line 2)",
     "output_type": "error",
     "traceback": [
      "\u001b[1;36m  File \u001b[1;32m\"C:\\Users\\Toru\\AppData\\Local\\Temp\\ipykernel_18156\\3377996320.py\"\u001b[1;36m, line \u001b[1;32m2\u001b[0m\n\u001b[1;33m    Return a copy of array collapsed in one dimension\u001b[0m\n\u001b[1;37m           ^\u001b[0m\n\u001b[1;31mSyntaxError\u001b[0m\u001b[1;31m:\u001b[0m invalid syntax\n"
     ]
    }
   ],
   "source": [
    "np.flatten()\n",
    "Return a copy of array collapsed in one dimension"
   ]
  },
  {
   "cell_type": "code",
   "execution_count": 61,
   "id": "d0e0b28d",
   "metadata": {},
   "outputs": [
    {
     "name": "stdout",
     "output_type": "stream",
     "text": [
      "[[[[ 0.  0.  0.]\n",
      "   [10. 10. 10.]\n",
      "   [20. 20. 20.]\n",
      "   [30. 30. 30.]]]]\n",
      "Dimensional of array before flatten 4\n"
     ]
    }
   ],
   "source": [
    "import numpy as np\n",
    "a =np.array([[[[0.0,0.0,0.0],[10.0,10.0,10.0],[20.0,20.0,20.0],[30.0,30.0,30.0]]]])\n",
    "print(a)\n",
    "print(\"Dimensional of array before flatten\", a.ndim)"
   ]
  },
  {
   "cell_type": "code",
   "execution_count": 62,
   "id": "a4526b1a",
   "metadata": {},
   "outputs": [
    {
     "data": {
      "text/plain": [
       "(1, 1, 4, 3)"
      ]
     },
     "execution_count": 62,
     "metadata": {},
     "output_type": "execute_result"
    }
   ],
   "source": [
    "a.shape"
   ]
  },
  {
   "cell_type": "code",
   "execution_count": 63,
   "id": "5fd305bb",
   "metadata": {},
   "outputs": [
    {
     "name": "stdout",
     "output_type": "stream",
     "text": [
      "[ 0.  0.  0. 10. 10. 10. 20. 20. 20. 30. 30. 30.]\n",
      "\n",
      "Dimensional of array after flatten 1\n"
     ]
    }
   ],
   "source": [
    "b=a.flatten()\n",
    "print(b)\n",
    "print(\"\\nDimensional of array after flatten\", b.ndim )"
   ]
  },
  {
   "cell_type": "markdown",
   "id": "96941a40",
   "metadata": {},
   "source": [
    "# Append\n",
    "To add elemt to the end of existing array\n"
   ]
  },
  {
   "cell_type": "code",
   "execution_count": 64,
   "id": "86573861",
   "metadata": {},
   "outputs": [
    {
     "data": {
      "text/plain": [
       "array([4, 5, 6, 7, 8, 9, 1, 2, 3])"
      ]
     },
     "execution_count": 64,
     "metadata": {},
     "output_type": "execute_result"
    }
   ],
   "source": [
    "import numpy as np\n",
    "#add [1,2,3] to array a\n",
    "a=[[4,5,6], [7,8,9]]\n",
    "b=[1,2,3]\n",
    "c=np.append(a,b)# adding two list and converting to numpy array\n",
    "c"
   ]
  },
  {
   "cell_type": "code",
   "execution_count": null,
   "id": "13d331d9",
   "metadata": {},
   "outputs": [],
   "source": []
  },
  {
   "cell_type": "code",
   "execution_count": null,
   "id": "6c5ce154",
   "metadata": {},
   "outputs": [],
   "source": []
  },
  {
   "cell_type": "code",
   "execution_count": null,
   "id": "16a93ce6",
   "metadata": {},
   "outputs": [],
   "source": []
  },
  {
   "cell_type": "code",
   "execution_count": null,
   "id": "0b7ba6dc",
   "metadata": {},
   "outputs": [],
   "source": []
  },
  {
   "cell_type": "code",
   "execution_count": null,
   "id": "746d220c",
   "metadata": {},
   "outputs": [],
   "source": []
  }
 ],
 "metadata": {
  "kernelspec": {
   "display_name": "Python 3 (ipykernel)",
   "language": "python",
   "name": "python3"
  },
  "language_info": {
   "codemirror_mode": {
    "name": "ipython",
    "version": 3
   },
   "file_extension": ".py",
   "mimetype": "text/x-python",
   "name": "python",
   "nbconvert_exporter": "python",
   "pygments_lexer": "ipython3",
   "version": "3.9.13"
  }
 },
 "nbformat": 4,
 "nbformat_minor": 5
}
